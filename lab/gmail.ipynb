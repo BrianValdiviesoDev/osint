{
 "cells": [
  {
   "cell_type": "markdown",
   "metadata": {},
   "source": [
    "# GMAIL CONNECTION\n",
    "\n",
    "[Tutorial](https://developers.google.com/gmail/api/quickstart/python)"
   ]
  },
  {
   "cell_type": "markdown",
   "metadata": {},
   "source": [
    "## AUTH FLOW\n"
   ]
  },
  {
   "cell_type": "code",
   "execution_count": null,
   "metadata": {},
   "outputs": [],
   "source": [
    "import os.path\n",
    "\n",
    "from google.auth.transport.requests import Request\n",
    "from google.oauth2.credentials import Credentials\n",
    "from google_auth_oauthlib.flow import InstalledAppFlow\n",
    "from googleapiclient.discovery import build\n",
    "from googleapiclient.errors import HttpError\n",
    "\n",
    "# If modifying these scopes, delete the file token.json.\n",
    "SCOPES = [\"https://www.googleapis.com/auth/gmail.readonly\"]\n",
    "\n",
    "creds = None\n",
    "# The file token.json stores the user's access and refresh tokens, and is\n",
    "# created automatically when| the authorization flow completes for the first\n",
    "# time.\n",
    "if os.path.exists(\"token.json\"):\n",
    "    creds = Credentials.from_authorized_user_file(\"token.json\", SCOPES)\n",
    "# If there are no (valid) credentials available, let the user log in.\n",
    "if not creds or not creds.valid:\n",
    "    if creds and creds.expired and creds.refresh_token:\n",
    "        creds.refresh(Request())\n",
    "    else:\n",
    "        flow = InstalledAppFlow.from_client_secrets_file(\n",
    "            \"gmail_credentials.json\", SCOPES\n",
    "        )\n",
    "        creds = flow.run_local_server(port=0)\n",
    "    # Save the credentials for the next run\n",
    "    with open(\"token.json\", \"w\") as token:\n",
    "        token.write(creds.to_json())"
   ]
  },
  {
   "cell_type": "markdown",
   "metadata": {},
   "source": [
    "## Actions"
   ]
  },
  {
   "cell_type": "markdown",
   "metadata": {},
   "source": [
    "### List emails"
   ]
  },
  {
   "cell_type": "code",
   "execution_count": null,
   "metadata": {},
   "outputs": [],
   "source": [
    "try:\n",
    "    service = build(\"gmail\", \"v1\", credentials=creds)\n",
    "    response = service.users().messages().list(userId=\"me\", maxResults=500,includeSpamTrash=\"true\").execute()\n",
    "    print(response)\n",
    "    next_page_token = response['nextPageToken']\n",
    "    messages = response[\"messages\"]\n",
    "\n",
    "    if not messages:\n",
    "        print(\"No messages found.\")\n",
    "\n",
    "    print(f\"Hay {len(messages)} emails\")\n",
    "\n",
    "\n",
    "except HttpError as error:\n",
    "    print(f\"An error occurred: {error}\")"
   ]
  },
  {
   "cell_type": "markdown",
   "metadata": {},
   "source": [
    "### READ RAW"
   ]
  },
  {
   "cell_type": "code",
   "execution_count": null,
   "metadata": {},
   "outputs": [],
   "source": [
    "import base64\n",
    "emailId=\"18f95cfbb7617da7\"\n",
    "\n",
    "try:\n",
    "    service = build(\"gmail\", \"v1\", credentials=creds)\n",
    "    data = service.users().messages().get(userId=\"me\", id=emailId,format=\"raw\").execute()\n",
    "    body = data[\"raw\"]\n",
    "    body = base64.urlsafe_b64decode(body)\n",
    "    print(body)\n",
    "except HttpError as error:\n",
    "    print(f\"An error occurred: {error}\")\n"
   ]
  },
  {
   "cell_type": "markdown",
   "metadata": {},
   "source": [
    "### READ"
   ]
  },
  {
   "cell_type": "code",
   "execution_count": null,
   "metadata": {},
   "outputs": [],
   "source": [
    "import base64\n",
    "emailId=\"18f95cfbb7617da7\"\n",
    "\n",
    "try:\n",
    "    service = build(\"gmail\", \"v1\", credentials=creds)\n",
    "    data = service.users().messages().get(userId=\"me\", id=emailId).execute()\n",
    "    headers = data[\"payload\"][\"headers\"]\n",
    "    subject = \"\"\n",
    "    fromEmail = \"\"\n",
    "    toEmail = \"\"\n",
    "    date = \"\"\n",
    "    for header in headers:\n",
    "        if \"Subject\" in header[\"name\"]:\n",
    "            subject = header[\"value\"]\n",
    "        elif \"Date\" in header[\"name\"]:\n",
    "            date = header[\"value\"]\n",
    "        elif \"From\" in header[\"name\"]:\n",
    "            fromEmail = header[\"value\"]   \n",
    "        elif \"To\" in header[\"name\"]:\n",
    "            toEmail = header[\"value\"]    \n",
    "    \n",
    "    parts = data[\"payload\"][\"parts\"]\n",
    "    print(parts)\n",
    "    body = parts[0][\"body\"][\"data\"]\n",
    "    body = base64.urlsafe_b64decode(body)\n",
    "    print(f\"To: {toEmail}\")\n",
    "    print(f\"From: {fromEmail}\")\n",
    "    print(f\"Date: {date}\")\n",
    "    print(subject)\n",
    "    print(body)\n",
    "except HttpError as error:\n",
    "    print(f\"An error occurred: {error}\")\n"
   ]
  }
 ],
 "metadata": {
  "kernelspec": {
   "display_name": "env",
   "language": "python",
   "name": "python3"
  },
  "language_info": {
   "codemirror_mode": {
    "name": "ipython",
    "version": 3
   },
   "file_extension": ".py",
   "mimetype": "text/x-python",
   "name": "python",
   "nbconvert_exporter": "python",
   "pygments_lexer": "ipython3",
   "version": "3.11.9"
  }
 },
 "nbformat": 4,
 "nbformat_minor": 2
}
